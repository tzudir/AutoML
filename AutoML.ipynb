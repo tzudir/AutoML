{
  "nbformat": 4,
  "nbformat_minor": 0,
  "metadata": {
    "colab": {
      "provenance": [],
      "authorship_tag": "ABX9TyNX6d/p7X5yrmapwrqLK8KO"
    },
    "kernelspec": {
      "name": "python3",
      "display_name": "Python 3"
    },
    "language_info": {
      "name": "python"
    }
  },
  "cells": [
    {
      "cell_type": "markdown",
      "source": [
        "## AutoML"
      ],
      "metadata": {
        "id": "HOCGJ7oL1kSa"
      }
    },
    {
      "cell_type": "code",
      "source": [],
      "metadata": {
        "id": "o-PwLPFH2ccA"
      },
      "execution_count": null,
      "outputs": []
    }
  ]
}